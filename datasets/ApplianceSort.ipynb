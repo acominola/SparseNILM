{
 "cells": [
  {
   "cell_type": "code",
   "execution_count": 1,
   "metadata": {},
   "outputs": [],
   "source": [
    "from __future__ import print_function\n",
    "\n",
    "import os\n",
    "import pandas as pd\n",
    "#import sklearn\n",
    "import matplotlib as mpl\n",
    "import matplotlib.pyplot as plt\n",
    "import numpy as np"
   ]
  },
  {
   "cell_type": "code",
   "execution_count": 2,
   "metadata": {},
   "outputs": [],
   "source": [
    "%matplotlib notebook"
   ]
  },
  {
   "cell_type": "markdown",
   "metadata": {},
   "source": [
    "# Data loading"
   ]
  },
  {
   "cell_type": "code",
   "execution_count": 31,
   "metadata": {},
   "outputs": [
    {
     "data": {
      "text/plain": [
       "HPE    0.226655\n",
       "FRE    0.173939\n",
       "CDE    0.111754\n",
       "UTE    0.068889\n",
       "GRE    0.065024\n",
       "TVE    0.056268\n",
       "FGE    0.053268\n",
       "EQE    0.051318\n",
       "BME    0.048327\n",
       "OFE    0.043368\n",
       "B2E    0.027922\n",
       "EBE    0.025042\n",
       "WOE    0.019674\n",
       "DWE    0.015781\n",
       "CWE    0.007143\n",
       "HTE    0.003597\n",
       "DNE    0.001070\n",
       "B1E    0.000960\n",
       "OUE    0.000001\n",
       "dtype: float64"
      ]
     },
     "execution_count": 31,
     "metadata": {},
     "output_type": "execute_result"
    }
   ],
   "source": [
    "allData = pd.read_csv('AMPdsR1_1min_A.csv', header = 0)\n",
    "\n",
    "# Appliance names\n",
    "appNames = allData.keys()[2:]\n",
    "\n",
    "# Total power used by each appliance\n",
    "totP = allData[appNames].sum()\n",
    "totP = np.divide(totP, np.sum(totP))\n",
    "\n",
    "# Sorted appliances\n",
    "totP = totP.sort_values(ascending=False)\n",
    "totP"
   ]
  },
  {
   "cell_type": "markdown",
   "metadata": {},
   "source": [
    "# Saving data iteratively for increasing number of appliances"
   ]
  },
  {
   "cell_type": "code",
   "execution_count": 28,
   "metadata": {},
   "outputs": [],
   "source": [
    "nMin = 2  # Minimum number of appliances\n",
    "nMax = 10 # Maximum number of appliances"
   ]
  },
  {
   "cell_type": "code",
   "execution_count": 95,
   "metadata": {},
   "outputs": [
    {
     "name": "stderr",
     "output_type": "stream",
     "text": [
      "/Applications/anaconda3/lib/python3.7/site-packages/ipykernel_launcher.py:5: SettingWithCopyWarning: \n",
      "A value is trying to be set on a copy of a slice from a DataFrame.\n",
      "Try using .loc[row_indexer,col_indexer] = value instead\n",
      "\n",
      "See the caveats in the documentation: http://pandas.pydata.org/pandas-docs/stable/indexing.html#indexing-view-versus-copy\n",
      "  \"\"\"\n"
     ]
    },
    {
     "name": "stdout",
     "output_type": "stream",
     "text": [
      "AMPdsR1_1min_A_top2.csv\n",
      "AMPdsR1_1min_A_top3.csv\n",
      "AMPdsR1_1min_A_top4.csv\n",
      "AMPdsR1_1min_A_top5.csv\n",
      "AMPdsR1_1min_A_top6.csv\n",
      "AMPdsR1_1min_A_top7.csv\n",
      "AMPdsR1_1min_A_top8.csv\n",
      "AMPdsR1_1min_A_top9.csv\n",
      "AMPdsR1_1min_A_top10.csv\n"
     ]
    }
   ],
   "source": [
    "for i in range(nMin, nMax +1):\n",
    "    currApps = totP.keys()[0:i]\n",
    "    WHEtemp = np.sum(allData[currApps], axis = 1)\n",
    "    newData = allData[['TimeStamp']]\n",
    "    newData['WHE'] = WHEtemp\n",
    "    newData = newData.join(allData[currApps])\n",
    "    filename = \"AMPdsR1_1min_A_top%s.csv\" % str(i)\n",
    "    print(filename)\n",
    "    newData.to_csv(filename)"
   ]
  },
  {
   "cell_type": "code",
   "execution_count": null,
   "metadata": {},
   "outputs": [],
   "source": []
  }
 ],
 "metadata": {
  "kernelspec": {
   "display_name": "Python 3",
   "language": "python",
   "name": "python3"
  },
  "language_info": {
   "codemirror_mode": {
    "name": "ipython",
    "version": 3
   },
   "file_extension": ".py",
   "mimetype": "text/x-python",
   "name": "python",
   "nbconvert_exporter": "python",
   "pygments_lexer": "ipython3",
   "version": "3.7.1"
  },
  "toc": {
   "base_numbering": 1,
   "nav_menu": {},
   "number_sections": true,
   "sideBar": true,
   "skip_h1_title": false,
   "title_cell": "Table of Contents",
   "title_sidebar": "Contents",
   "toc_cell": false,
   "toc_position": {},
   "toc_section_display": true,
   "toc_window_display": false
  }
 },
 "nbformat": 4,
 "nbformat_minor": 2
}
